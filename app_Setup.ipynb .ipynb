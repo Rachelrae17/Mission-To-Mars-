{
 "cells": [
  {
   "cell_type": "code",
   "execution_count": null,
   "id": "870a61a1",
   "metadata": {},
   "outputs": [],
   "source": [
    "#dependencies\n",
    "from flask import Flask, render_template, redirect, url_for\n",
    "from flask_pymongo import PyMongo\n",
    "import scraping"
   ]
  },
  {
   "cell_type": "code",
   "execution_count": null,
   "id": "c7823acf",
   "metadata": {},
   "outputs": [],
   "source": [
    "app = Flask(__name__)"
   ]
  },
  {
   "cell_type": "code",
   "execution_count": null,
   "id": "207e6226",
   "metadata": {},
   "outputs": [],
   "source": [
    "# use flask_pymong to set up mongo connection\n",
    "app.config['MONGO_URI'] = 'mongodb://localhost:27017/mars_app'\n",
    "mongo = PyMongo(app)"
   ]
  },
  {
   "cell_type": "code",
   "execution_count": null,
   "id": "44865aaf",
   "metadata": {},
   "outputs": [],
   "source": [
    "# setting up the index route\n",
    "@app.route('/')\n",
    "def index():\n",
    "    mars = mongo.db.mars.find_one()\n",
    "    return render_template('index.html', mars=mars)"
   ]
  },
  {
   "cell_type": "code",
   "execution_count": null,
   "id": "d6eaad55",
   "metadata": {},
   "outputs": [],
   "source": [
    "# set up the scraping route\n",
    "@app.route('/scrape')\n",
    "def scrape():\n",
    "    mars = mong.db.mars\n",
    "    mars_data = scraping.scrape_all()\n",
    "    mars.update_one({}, {'$set':mars_data}, upsert=True)\n",
    "    return rediret('/', code=302)"
   ]
  },
  {
   "cell_type": "code",
   "execution_count": null,
   "id": "f6892076",
   "metadata": {},
   "outputs": [],
   "source": [
    "if __name__ == '__main__':\n",
    "    app.run()"
   ]
  }
 ],
 "metadata": {
  "kernelspec": {
   "display_name": "Python 3 (ipykernel)",
   "language": "python",
   "name": "python3"
  },
  "language_info": {
   "codemirror_mode": {
    "name": "ipython",
    "version": 3
   },
   "file_extension": ".py",
   "mimetype": "text/x-python",
   "name": "python",
   "nbconvert_exporter": "python",
   "pygments_lexer": "ipython3",
   "version": "3.9.7"
  }
 },
 "nbformat": 4,
 "nbformat_minor": 5
}
